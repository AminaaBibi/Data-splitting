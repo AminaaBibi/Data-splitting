{
 "cells": [
  {
   "cell_type": "markdown",
   "metadata": {},
   "source": [
    "Create a decision tree on the Tennis Dataset, you algorithm should be ID3"
   ]
  },
  {
   "cell_type": "code",
   "execution_count": 36,
   "metadata": {},
   "outputs": [],
   "source": [
    "import pandas as pd\n",
    "import numpy as np"
   ]
  },
  {
   "cell_type": "code",
   "execution_count": 37,
   "metadata": {},
   "outputs": [
    {
     "data": {
      "text/html": [
       "<div>\n",
       "<style scoped>\n",
       "    .dataframe tbody tr th:only-of-type {\n",
       "        vertical-align: middle;\n",
       "    }\n",
       "\n",
       "    .dataframe tbody tr th {\n",
       "        vertical-align: top;\n",
       "    }\n",
       "\n",
       "    .dataframe thead th {\n",
       "        text-align: right;\n",
       "    }\n",
       "</style>\n",
       "<table border=\"1\" class=\"dataframe\">\n",
       "  <thead>\n",
       "    <tr style=\"text-align: right;\">\n",
       "      <th></th>\n",
       "      <th>day</th>\n",
       "      <th>outlook</th>\n",
       "      <th>temp</th>\n",
       "      <th>humidity</th>\n",
       "      <th>wind</th>\n",
       "      <th>play</th>\n",
       "    </tr>\n",
       "  </thead>\n",
       "  <tbody>\n",
       "    <tr>\n",
       "      <th>0</th>\n",
       "      <td>D1</td>\n",
       "      <td>Sunny</td>\n",
       "      <td>Hot</td>\n",
       "      <td>High</td>\n",
       "      <td>Weak</td>\n",
       "      <td>No</td>\n",
       "    </tr>\n",
       "    <tr>\n",
       "      <th>1</th>\n",
       "      <td>D2</td>\n",
       "      <td>Sunny</td>\n",
       "      <td>Hot</td>\n",
       "      <td>High</td>\n",
       "      <td>Strong</td>\n",
       "      <td>No</td>\n",
       "    </tr>\n",
       "    <tr>\n",
       "      <th>2</th>\n",
       "      <td>D3</td>\n",
       "      <td>Overcast</td>\n",
       "      <td>Hot</td>\n",
       "      <td>High</td>\n",
       "      <td>Weak</td>\n",
       "      <td>Yes</td>\n",
       "    </tr>\n",
       "    <tr>\n",
       "      <th>3</th>\n",
       "      <td>D4</td>\n",
       "      <td>Rain</td>\n",
       "      <td>Mild</td>\n",
       "      <td>High</td>\n",
       "      <td>Weak</td>\n",
       "      <td>Yes</td>\n",
       "    </tr>\n",
       "    <tr>\n",
       "      <th>4</th>\n",
       "      <td>D5</td>\n",
       "      <td>Rain</td>\n",
       "      <td>Cool</td>\n",
       "      <td>Normal</td>\n",
       "      <td>Weak</td>\n",
       "      <td>Yes</td>\n",
       "    </tr>\n",
       "    <tr>\n",
       "      <th>5</th>\n",
       "      <td>D6</td>\n",
       "      <td>Rain</td>\n",
       "      <td>Cool</td>\n",
       "      <td>Normal</td>\n",
       "      <td>Strong</td>\n",
       "      <td>No</td>\n",
       "    </tr>\n",
       "    <tr>\n",
       "      <th>6</th>\n",
       "      <td>D7</td>\n",
       "      <td>Overcast</td>\n",
       "      <td>Cool</td>\n",
       "      <td>Normal</td>\n",
       "      <td>Strong</td>\n",
       "      <td>Yes</td>\n",
       "    </tr>\n",
       "    <tr>\n",
       "      <th>7</th>\n",
       "      <td>D8</td>\n",
       "      <td>Sunny</td>\n",
       "      <td>Mild</td>\n",
       "      <td>High</td>\n",
       "      <td>Weak</td>\n",
       "      <td>No</td>\n",
       "    </tr>\n",
       "    <tr>\n",
       "      <th>8</th>\n",
       "      <td>D9</td>\n",
       "      <td>Sunny</td>\n",
       "      <td>Cool</td>\n",
       "      <td>Normal</td>\n",
       "      <td>Weak</td>\n",
       "      <td>Yes</td>\n",
       "    </tr>\n",
       "    <tr>\n",
       "      <th>9</th>\n",
       "      <td>D10</td>\n",
       "      <td>Rain</td>\n",
       "      <td>Mild</td>\n",
       "      <td>Normal</td>\n",
       "      <td>Weak</td>\n",
       "      <td>Yes</td>\n",
       "    </tr>\n",
       "    <tr>\n",
       "      <th>10</th>\n",
       "      <td>D11</td>\n",
       "      <td>Sunny</td>\n",
       "      <td>Mild</td>\n",
       "      <td>Normal</td>\n",
       "      <td>Strong</td>\n",
       "      <td>Yes</td>\n",
       "    </tr>\n",
       "    <tr>\n",
       "      <th>11</th>\n",
       "      <td>D12</td>\n",
       "      <td>Overcast</td>\n",
       "      <td>Mild</td>\n",
       "      <td>High</td>\n",
       "      <td>Strong</td>\n",
       "      <td>Yes</td>\n",
       "    </tr>\n",
       "    <tr>\n",
       "      <th>12</th>\n",
       "      <td>D13</td>\n",
       "      <td>Overcast</td>\n",
       "      <td>Hot</td>\n",
       "      <td>Normal</td>\n",
       "      <td>Weak</td>\n",
       "      <td>Yes</td>\n",
       "    </tr>\n",
       "    <tr>\n",
       "      <th>13</th>\n",
       "      <td>D14</td>\n",
       "      <td>Rain</td>\n",
       "      <td>Mild</td>\n",
       "      <td>High</td>\n",
       "      <td>Strong</td>\n",
       "      <td>No</td>\n",
       "    </tr>\n",
       "  </tbody>\n",
       "</table>\n",
       "</div>"
      ],
      "text/plain": [
       "    day   outlook  temp humidity    wind play\n",
       "0    D1     Sunny   Hot     High    Weak   No\n",
       "1    D2     Sunny   Hot     High  Strong   No\n",
       "2    D3  Overcast   Hot     High    Weak  Yes\n",
       "3    D4      Rain  Mild     High    Weak  Yes\n",
       "4    D5      Rain  Cool   Normal    Weak  Yes\n",
       "5    D6      Rain  Cool   Normal  Strong   No\n",
       "6    D7  Overcast  Cool   Normal  Strong  Yes\n",
       "7    D8     Sunny  Mild     High    Weak   No\n",
       "8    D9     Sunny  Cool   Normal    Weak  Yes\n",
       "9   D10      Rain  Mild   Normal    Weak  Yes\n",
       "10  D11     Sunny  Mild   Normal  Strong  Yes\n",
       "11  D12  Overcast  Mild     High  Strong  Yes\n",
       "12  D13  Overcast   Hot   Normal    Weak  Yes\n",
       "13  D14      Rain  Mild     High  Strong   No"
      ]
     },
     "execution_count": 37,
     "metadata": {},
     "output_type": "execute_result"
    }
   ],
   "source": [
    "df = pd.read_csv('play_tennis.csv')\n",
    "df"
   ]
  },
  {
   "cell_type": "code",
   "execution_count": 38,
   "metadata": {},
   "outputs": [
    {
     "data": {
      "text/plain": [
       "0.9402859586706311"
      ]
     },
     "execution_count": 38,
     "metadata": {},
     "output_type": "execute_result"
    }
   ],
   "source": [
    "#entropy of the dataset\n",
    "def entropy(df):\n",
    "    entropy = 0\n",
    "    for i in df['play'].unique():\n",
    "        p = df['play'].value_counts()[i]/len(df['play'])\n",
    "        entropy += -p*np.log2(p)\n",
    "    return entropy\n",
    "\n",
    "dataentropy = entropy(df)\n",
    "dataentropy"
   ]
  },
  {
   "cell_type": "code",
   "execution_count": 39,
   "metadata": {},
   "outputs": [
    {
     "name": "stdout",
     "output_type": "stream",
     "text": [
      "Entropies:  0.9709505944546686 0.9709505944546686 0.0\n",
      "Probabliites:  0.35714285714285715 0.35714285714285715 0.2857142857142857\n",
      "outlook:  0.6935361388961918\n",
      "Info Gain:  0.24674981977443933\n"
     ]
    }
   ],
   "source": [
    "# for outlook \n",
    "sunny = df[df['outlook']=='Sunny']\n",
    "rainy = df[df['outlook']=='Rain']\n",
    "overcast = df[df['outlook']=='Overcast']\n",
    "\n",
    "sunny = entropy(sunny)\n",
    "rainy = entropy(rainy)\n",
    "overcast = entropy(overcast)\n",
    "\n",
    "print('Entropies: ',sunny,rainy,overcast)\n",
    "\n",
    "# ptobabilities\n",
    "p_sunny = len(df[df['outlook']=='Sunny'])/len(df['outlook'])\n",
    "p_rainy = len(df[df['outlook']=='Rain'])/len(df['outlook'])\n",
    "p_overcast = len(df[df['outlook']=='Overcast'])/len(df['outlook'])\n",
    "\n",
    "print('Probabliites: ' ,p_sunny, p_rainy,p_overcast)\n",
    "\n",
    "# avg entropy for outlook\n",
    "outlook = p_sunny*sunny + p_rainy*rainy + p_overcast*overcast\n",
    "\n",
    "print('outlook: ', outlook)\n",
    "\n",
    "info_gain = dataentropy - outlook\n",
    "print('Info Gain: ', info_gain)"
   ]
  },
  {
   "cell_type": "code",
   "execution_count": 40,
   "metadata": {},
   "outputs": [
    {
     "name": "stdout",
     "output_type": "stream",
     "text": [
      "Entropies:  0.9852281360342515 0.5916727785823275\n",
      "Probabliites:  0.5 0.5\n",
      "humidity:  0.7884504573082896\n",
      "Info Gain:  0.15183550136234159\n"
     ]
    }
   ],
   "source": [
    "# for humidity\n",
    "high = df[df['humidity']=='High']\n",
    "normal = df[df['humidity']=='Normal']\n",
    "\n",
    "high = entropy(high)\n",
    "normal = entropy(normal)\n",
    "\n",
    "print('Entropies: ',high,normal)\n",
    "\n",
    "# ptobabilities\n",
    "p_high = len(df[df['humidity']=='High'])/len(df['humidity'])\n",
    "p_normal = len(df[df['humidity']=='Normal'])/len(df['humidity'])\n",
    "\n",
    "print('Probabliites: ' ,p_high, p_normal)\n",
    "\n",
    "# avg entropy for humidity\n",
    "humidity = p_high*high + p_normal*normal\n",
    "\n",
    "print('humidity: ', humidity)\n",
    "\n",
    "info_gain2 = dataentropy - humidity\n",
    "print('Info Gain: ', info_gain2)"
   ]
  },
  {
   "cell_type": "code",
   "execution_count": 41,
   "metadata": {},
   "outputs": [
    {
     "name": "stdout",
     "output_type": "stream",
     "text": [
      "Entropies:  1.0 0.9182958340544896 0.8112781244591328\n",
      "Probabliites:  0.2857142857142857 0.42857142857142855 0.2857142857142857\n",
      "temp:  0.9110633930116763\n",
      "Info Gain:  0.02922256565895487\n"
     ]
    }
   ],
   "source": [
    "# for temp\n",
    "hot = df[df['temp']=='Hot']\n",
    "mild = df[df['temp']=='Mild']\n",
    "cool = df[df['temp']=='Cool']\n",
    "\n",
    "hot = entropy(hot)\n",
    "mild = entropy(mild)\n",
    "cool = entropy(cool)\n",
    "\n",
    "print('Entropies: ', hot, mild, cool)\n",
    "\n",
    "# ptobabilities\n",
    "p_hot = len(df[df['temp']=='Hot'])/len(df['temp'])\n",
    "p_mild = len(df[df['temp']=='Mild'])/len(df['temp'])\n",
    "p_cool = len(df[df['temp']=='Cool'])/len(df['temp'])\n",
    "\n",
    "print('Probabliites: ' ,p_hot, p_mild, p_cool)\n",
    "\n",
    "# avg entropy for temp\n",
    "temp = p_hot*hot + p_mild*mild + p_cool*cool\n",
    "\n",
    "print('temp: ', temp)\n",
    "\n",
    "info_gain3 = dataentropy - temp\n",
    "print('Info Gain: ', info_gain3)\n"
   ]
  },
  {
   "cell_type": "code",
   "execution_count": 42,
   "metadata": {},
   "outputs": [
    {
     "name": "stdout",
     "output_type": "stream",
     "text": [
      "Entropies:  1.0 0.8112781244591328\n",
      "Probabliites:  0.42857142857142855 0.5714285714285714\n",
      "wind:  0.8921589282623617\n",
      "Info Gain:  0.04812703040826949\n"
     ]
    }
   ],
   "source": [
    "# for wind\n",
    "strong = df[df['wind']=='Strong']\n",
    "weak = df[df['wind']=='Weak']\n",
    "\n",
    "strong = entropy(strong)\n",
    "weak = entropy(weak)\n",
    "\n",
    "print('Entropies: ', strong, weak)\n",
    "\n",
    "# ptobabilities\n",
    "p_strong = len(df[df['wind']=='Strong'])/len(df['wind'])\n",
    "p_weak = len(df[df['wind']=='Weak'])/len(df['wind'])\n",
    "\n",
    "print('Probabliites: ' ,p_strong, p_weak)\n",
    "\n",
    "# avg entropy for wind\n",
    "wind = p_strong*strong + p_weak*weak\n",
    "\n",
    "print('wind: ', wind)\n",
    "\n",
    "info_gain4 = dataentropy - wind\n",
    "print('Info Gain: ', info_gain4)"
   ]
  },
  {
   "cell_type": "code",
   "execution_count": null,
   "metadata": {},
   "outputs": [],
   "source": []
  },
  {
   "cell_type": "code",
   "execution_count": 43,
   "metadata": {},
   "outputs": [
    {
     "data": {
      "text/plain": [
       "0.9709505944546686"
      ]
     },
     "execution_count": 43,
     "metadata": {},
     "output_type": "execute_result"
    }
   ],
   "source": [
    "# complete entropy of sunny \n",
    "sunny"
   ]
  },
  {
   "cell_type": "code",
   "execution_count": 46,
   "metadata": {},
   "outputs": [
    {
     "name": "stdout",
     "output_type": "stream",
     "text": [
      "Entropies:  0.0 1.0 0.0\n",
      "Probabliites:  0.4 0.4 0.2\n",
      "sunny:  0.4\n",
      "Info Gain:  0.5709505944546686\n"
     ]
    }
   ],
   "source": [
    "# values of hot mild and cool in sunny\n",
    "sunny_hot = df[(df['outlook']=='Sunny') & (df['temp']=='Hot')]\n",
    "sunny_mild = df[(df['outlook']=='Sunny') & (df['temp']=='Mild')]\n",
    "sunny_cool = df[(df['outlook']=='Sunny') & (df['temp']=='Cool')]\n",
    "\n",
    "# entropy of hot mild and cool in sunny\n",
    "sunny_hot = entropy(sunny_hot)\n",
    "sunny_mild = entropy(sunny_mild)\n",
    "sunny_cool = entropy(sunny_cool)\n",
    "\n",
    "print('Entropies: ', sunny_hot, sunny_mild, sunny_cool)\n",
    "\n",
    "# probabilities of hot mild and cool in sunny\n",
    "p_sunny_hot = len(df[(df['outlook']=='Sunny') & (df['temp']=='Hot')])/len(df[df['outlook']=='Sunny'])\n",
    "p_sunny_mild = len(df[(df['outlook']=='Sunny') & (df['temp']=='Mild')])/len(df[df['outlook']=='Sunny'])\n",
    "p_sunny_cool = len(df[(df['outlook']=='Sunny') & (df['temp']=='Cool')])/len(df[df['outlook']=='Sunny'])\n",
    "\n",
    "print('Probabliites: ' ,p_sunny_hot, p_sunny_mild, p_sunny_cool)\n",
    "\n",
    "# avg entropy of sunny\n",
    "sunny_temp = p_sunny_hot*sunny_hot + p_sunny_mild*sunny_mild + p_sunny_cool*sunny_cool\n",
    "\n",
    "print('sunny: ', sunny_temp)\n",
    "\n",
    "# information gain\n",
    "info_gain_sunny = sunny - sunny_temp\n",
    "print('Info Gain: ', info_gain_sunny)\n"
   ]
  },
  {
   "cell_type": "code",
   "execution_count": 47,
   "metadata": {},
   "outputs": [
    {
     "name": "stdout",
     "output_type": "stream",
     "text": [
      "Entropies:  0.0 0.0\n",
      "Probabliites:  0.6 0.4\n",
      "sunny:  0.0\n",
      "Info Gain:  0.9709505944546686\n"
     ]
    }
   ],
   "source": [
    "# for humidity\n",
    "sunny_high = df[(df['outlook']=='Sunny') & (df['humidity']=='High')]\n",
    "sunny_normal = df[(df['outlook']=='Sunny') & (df['humidity']=='Normal')]\n",
    "sunny_high = entropy(sunny_high)\n",
    "sunny_normal = entropy(sunny_normal)\n",
    "\n",
    "print('Entropies: ', sunny_high, sunny_normal)\n",
    "\n",
    "# probabilities\n",
    "p_sunny_high = len(df[(df['outlook']=='Sunny') & (df['humidity']=='High')])/len(df[df['outlook']=='Sunny'])\n",
    "p_sunny_normal = len(df[(df['outlook']=='Sunny') & (df['humidity']=='Normal')])/len(df[df['outlook']=='Sunny'])\n",
    "\n",
    "print('Probabliites: ' ,p_sunny_high, p_sunny_normal)\n",
    "\n",
    "# avg entropy of sunny\n",
    "sunny_humidity = p_sunny_high*sunny_high + p_sunny_normal*sunny_normal\n",
    "\n",
    "print('sunny: ', sunny_humidity)\n",
    "\n",
    "# information gain\n",
    "info_gain_sunny2 = sunny - sunny_humidity\n",
    "print('Info Gain: ', info_gain_sunny2)"
   ]
  },
  {
   "cell_type": "code",
   "execution_count": 49,
   "metadata": {},
   "outputs": [
    {
     "name": "stdout",
     "output_type": "stream",
     "text": [
      "Entropies:  1.0 0.9182958340544896\n",
      "Probablities:  0.4 0.6\n",
      "sunny:  0.9509775004326937\n",
      "Info Gain:  0.01997309402197489\n"
     ]
    }
   ],
   "source": [
    "# for wind\n",
    "sunny_strong = df[(df['outlook']=='Sunny') & (df['wind']=='Strong')]\n",
    "sunny_weak = df[(df['outlook']=='Sunny') & (df['wind']=='Weak')]\n",
    "sunny_strong = entropy(sunny_strong)\n",
    "sunny_weak = entropy(sunny_weak)\n",
    "\n",
    "print('Entropies: ', sunny_strong, sunny_weak)\n",
    "\n",
    "# probabilities\n",
    "p_sunny_strong = len(df[(df['outlook']=='Sunny') & (df['wind']=='Strong')])/len(df[df['outlook']=='Sunny'])\n",
    "p_sunny_weak = len(df[(df['outlook']=='Sunny') & (df['wind']=='Weak')])/len(df[df['outlook']=='Sunny'])\n",
    "\n",
    "print('Probablities: ' ,p_sunny_strong, p_sunny_weak)\n",
    "\n",
    "# avg entropy of sunny\n",
    "sunny_wind = p_sunny_strong*sunny_strong + p_sunny_weak*sunny_weak\n",
    "\n",
    "print('sunny: ', sunny_wind)\n",
    "\n",
    "# information gain\n",
    "info_gain_sunny3 = sunny - sunny_wind\n",
    "print('Info Gain: ', info_gain_sunny3)"
   ]
  },
  {
   "cell_type": "code",
   "execution_count": 51,
   "metadata": {},
   "outputs": [
    {
     "data": {
      "text/plain": [
       "0.9709505944546686"
      ]
     },
     "execution_count": 51,
     "metadata": {},
     "output_type": "execute_result"
    }
   ],
   "source": [
    "rainy"
   ]
  },
  {
   "cell_type": "code",
   "execution_count": 56,
   "metadata": {},
   "outputs": [
    {
     "name": "stdout",
     "output_type": "stream",
     "text": [
      "Entropies:  0 0.9182958340544896 1.0\n",
      "Probabliites:  0.0 0.6 0.4\n",
      "rainy:  0.9509775004326937\n",
      "Info Gain:  0.01997309402197489\n"
     ]
    }
   ],
   "source": [
    "# for temp in rainy\n",
    "rainy_hot = df[(df['outlook']=='Rain') & (df['temp']=='Hot')]\n",
    "rainy_mild = df[(df['outlook']=='Rain') & (df['temp']=='Mild')]\n",
    "rainy_cool = df[(df['outlook']=='Rain') & (df['temp']=='Cool')]\n",
    "rainy_hot = entropy(rainy_hot)\n",
    "rainy_mild = entropy(rainy_mild)\n",
    "rainy_cool = entropy(rainy_cool)\n",
    "\n",
    "print('Entropies: ', rainy_hot, rainy_mild, rainy_cool)\n",
    "\n",
    "# probabilities\n",
    "p_rainy_hot = len(df[(df['outlook']=='Rain') & (df['temp']=='Hot')])/len(df[df['outlook']=='Rain'])\n",
    "p_rainy_mild = len(df[(df['outlook']=='Rain') & (df['temp']=='Mild')])/len(df[df['outlook']=='Rain'])\n",
    "p_rainy_cool = len(df[(df['outlook']=='Rain') & (df['temp']=='Cool')])/len(df[df['outlook']=='Rain'])\n",
    "\n",
    "print('Probabliites: ' ,p_rainy_hot, p_rainy_mild, p_rainy_cool)\n",
    "\n",
    "# avg entropy of rainy\n",
    "rainy_temp = p_rainy_hot*rainy_hot + p_rainy_mild*rainy_mild + p_rainy_cool*rainy_cool\n",
    "\n",
    "print('rainy: ', rainy_temp)\n",
    "\n",
    "# information gain\n",
    "info_gain_rainy = rainy - rainy_temp\n",
    "print('Info Gain: ', info_gain_rainy)\n",
    "\n"
   ]
  },
  {
   "cell_type": "code",
   "execution_count": 57,
   "metadata": {},
   "outputs": [
    {
     "name": "stdout",
     "output_type": "stream",
     "text": [
      "Entropies:  0.0 0.0\n",
      "Probablities:  0.4 0.6\n",
      "rainy:  0.0\n",
      "Info Gain:  0.9709505944546686\n"
     ]
    }
   ],
   "source": [
    "# for wind\n",
    "rainy_strong = df[(df['outlook']=='Rain') & (df['wind']=='Strong')]\n",
    "rainy_weak = df[(df['outlook']=='Rain') & (df['wind']=='Weak')]\n",
    "rainy_strong = entropy(rainy_strong)\n",
    "rainy_weak = entropy(rainy_weak)\n",
    "\n",
    "print('Entropies: ', rainy_strong, rainy_weak)\n",
    "\n",
    "# probabilities\n",
    "p_rainy_strong = len(df[(df['outlook']=='Rain') & (df['wind']=='Strong')])/len(df[df['outlook']=='Rain'])\n",
    "p_rainy_weak = len(df[(df['outlook']=='Rain') & (df['wind']=='Weak')])/len(df[df['outlook']=='Rain'])\n",
    "\n",
    "print('Probablities: ' ,p_rainy_strong, p_rainy_weak)\n",
    "\n",
    "# avg entropy of rainy\n",
    "rainy_wind = p_rainy_strong*rainy_strong + p_rainy_weak*rainy_weak\n",
    "\n",
    "print('rainy: ', rainy_wind)\n",
    "\n",
    "# information gain\n",
    "info_gain_rainy2 = rainy - rainy_wind\n",
    "print('Info Gain: ', info_gain_rainy2)\n"
   ]
  },
  {
   "cell_type": "code",
   "execution_count": null,
   "metadata": {},
   "outputs": [],
   "source": []
  },
  {
   "cell_type": "code",
   "execution_count": null,
   "metadata": {},
   "outputs": [],
   "source": []
  },
  {
   "cell_type": "code",
   "execution_count": null,
   "metadata": {},
   "outputs": [],
   "source": []
  }
 ],
 "metadata": {
  "kernelspec": {
   "display_name": "Python 3.9.7 64-bit",
   "language": "python",
   "name": "python3"
  },
  "language_info": {
   "codemirror_mode": {
    "name": "ipython",
    "version": 3
   },
   "file_extension": ".py",
   "mimetype": "text/x-python",
   "name": "python",
   "nbconvert_exporter": "python",
   "pygments_lexer": "ipython3",
   "version": "3.9.7"
  },
  "orig_nbformat": 4,
  "vscode": {
   "interpreter": {
    "hash": "8c9fa92529ad414ba9dbda2696904a55380000c7dfb4ca576d2a8e3a5c010cbb"
   }
  }
 },
 "nbformat": 4,
 "nbformat_minor": 2
}
