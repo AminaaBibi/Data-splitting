{
 "cells": [
  {
   "cell_type": "markdown",
   "metadata": {},
   "source": [
    "perform Naïve Bayes classification, however, this time your code\n",
    "should cater to the words not in the corpus."
   ]
  },
  {
   "cell_type": "code",
   "execution_count": 1,
   "metadata": {},
   "outputs": [
    {
     "name": "stdout",
     "output_type": "stream",
     "text": [
      "i love mangoes mangoes are a lot tastier than other fruits i like mangoes because they are good apples are good too but i prefer mangoes people say mango is the king of fruit so that is why mangoes are good mangoes are good because they are juicy\n"
     ]
    }
   ],
   "source": [
    "positive = \"I love mangoes Mangoes are a lot tastier than other fruits I like mangoes because they are good Apples are good too but I prefer mangoes People say mango is the king of fruit so that is why mangoes are good Mangoes are good because they are juicy\"\n",
    "negative = \"Eating too many mangoes can have a negative impact on your health Mangoes are good but not too good I like apples more than mangoes I dont like mangoes because they are expensive Mangoes are not good I don’t like mangoes\"\n",
    "\n",
    "positive = positive.lower()\n",
    "negative = negative.lower()\n",
    "print(positive)"
   ]
  },
  {
   "cell_type": "code",
   "execution_count": 2,
   "metadata": {},
   "outputs": [],
   "source": [
    "c1 = 0\n",
    "c2 = 0\n",
    "for i in positive:\n",
    "    c1 += len(i.split())\n",
    "for i in negative:\n",
    "    c2 += len(i.split())\n",
    "\n",
    "prior_positive = c1/(c1+c2)\n",
    "prior_negative = c2/(c1+c2)"
   ]
  },
  {
   "cell_type": "code",
   "execution_count": 9,
   "metadata": {},
   "outputs": [
    {
     "name": "stdout",
     "output_type": "stream",
     "text": [
      "Positive: 3.689392464672441e-08\n",
      "Negative: 6.338412497019161e-08\n",
      "Negative\n"
     ]
    }
   ],
   "source": [
    "#number of times word appear in positive and negative and store in a dictionary\n",
    "positive_dict = {}\n",
    "negative_dict = {}\n",
    "for i in positive.split():\n",
    "    if i in positive_dict:\n",
    "        positive_dict[i] += 1\n",
    "    else:\n",
    "        positive_dict[i] = 1\n",
    "for i in negative.split():\n",
    "    if i in negative_dict:\n",
    "        negative_dict[i] += 1\n",
    "    else:\n",
    "        negative_dict[i] = 1\n",
    "\n",
    "# number of unique words in positive and negative\n",
    "unique_positive = len(positive_dict)\n",
    "unique_negative = len(negative_dict)\n",
    "unique = set(positive.split() + negative.split())\n",
    "unique = list(unique)\n",
    "# print(len(unique))\n",
    "# print(unique)\n",
    "\n",
    "\n",
    "def prob(sentence):\n",
    "    temp1 = 0\n",
    "    temp2 = 0\n",
    "    sentence = sentence.lower()\n",
    "    sentence = sentence.split()\n",
    "    p_prob= 1\n",
    "    n_prob = 1\n",
    "    count = 0\n",
    "    for i in sentence:\n",
    "        # print(i)\n",
    "        if i in positive_dict:\n",
    "            count = positive_dict[i]\n",
    "        else:\n",
    "            count = 0\n",
    "        p_prob *= (count + 1)/(c1 + len(unique))\n",
    "\n",
    "        if i in negative_dict:\n",
    "            count = negative_dict[i]\n",
    "        else:\n",
    "            count = 0\n",
    "        n_prob *= (count + 1)/(c2 + len(unique))\n",
    "    p_prob *= prior_positive\n",
    "    n_prob *= prior_negative\n",
    "    print(\"Positive:\",p_prob)\n",
    "    print(\"Negative:\",n_prob)\n",
    "    if p_prob > n_prob:\n",
    "        print(\"Positive\")\n",
    "    else:\n",
    "        print(\"Negative\")\n",
    "\n",
    "            \n",
    "prob('mangoes are not good')\n"
   ]
  },
  {
   "cell_type": "code",
   "execution_count": null,
   "metadata": {},
   "outputs": [],
   "source": []
  }
 ],
 "metadata": {
  "kernelspec": {
   "display_name": "Python 3.9.7 64-bit",
   "language": "python",
   "name": "python3"
  },
  "language_info": {
   "codemirror_mode": {
    "name": "ipython",
    "version": 3
   },
   "file_extension": ".py",
   "mimetype": "text/x-python",
   "name": "python",
   "nbconvert_exporter": "python",
   "pygments_lexer": "ipython3",
   "version": "3.9.7"
  },
  "orig_nbformat": 4,
  "vscode": {
   "interpreter": {
    "hash": "8c9fa92529ad414ba9dbda2696904a55380000c7dfb4ca576d2a8e3a5c010cbb"
   }
  }
 },
 "nbformat": 4,
 "nbformat_minor": 2
}
