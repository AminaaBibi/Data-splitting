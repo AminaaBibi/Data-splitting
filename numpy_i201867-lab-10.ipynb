{
 "cells": [
  {
   "cell_type": "code",
   "execution_count": 1,
   "metadata": {},
   "outputs": [],
   "source": [
    "import numpy as np"
   ]
  },
  {
   "cell_type": "code",
   "execution_count": 16,
   "metadata": {},
   "outputs": [
    {
     "data": {
      "text/plain": [
       "array([1, 2, 3, 4, 5])"
      ]
     },
     "execution_count": 16,
     "metadata": {},
     "output_type": "execute_result"
    }
   ],
   "source": [
    "a = np.array([1, 2, 3, 4, 5],dtype=np.int32) #int type np array\n",
    "b = np.array(['a', 'b', 'c', 'd', 'e'],dtype='str') #str type np array\n",
    "c = np.array([1.1, 2.2, 3.3, 4.4, 5.5],dtype=np.float32) #float type np array"
   ]
  },
  {
   "cell_type": "code",
   "execution_count": 7,
   "metadata": {},
   "outputs": [
    {
     "name": "stdout",
     "output_type": "stream",
     "text": [
      "(5,)\n",
      "(5,)\n",
      "(5,)\n"
     ]
    }
   ],
   "source": [
    "# shapes of arrays\n",
    "print(a.shape)\n",
    "print(b.shape)\n",
    "print(c.shape)"
   ]
  },
  {
   "cell_type": "code",
   "execution_count": 39,
   "metadata": {},
   "outputs": [
    {
     "name": "stdout",
     "output_type": "stream",
     "text": [
      "Zeros \n",
      " [[0. 0.]\n",
      " [0. 0.]]\n",
      "Empty \n",
      " [[0. 0.]\n",
      " [0. 0.]]\n",
      "Eye \n",
      " [[1. 0.]\n",
      " [0. 1.]]\n",
      "Eye \n",
      " [[0. 1.]\n",
      " [0. 0.]]\n"
     ]
    }
   ],
   "source": [
    "# zero array\n",
    "print('Zeros \\n',np.zeros((2,2)))\n",
    "# empty array\n",
    "print('Empty \\n',np.empty((2,2)))\n",
    "# eye array\n",
    "print('Eye \\n',np.eye(2))\n",
    "print('Eye \\n',(np.eye(2 , k=1)))"
   ]
  },
  {
   "cell_type": "code",
   "execution_count": 14,
   "metadata": {},
   "outputs": [
    {
     "name": "stdout",
     "output_type": "stream",
     "text": [
      "Object \n",
      " [1 2 3 4 5]\n"
     ]
    }
   ],
   "source": [
    "# object array \n",
    "print('Object \\n',np.array([1,2,3,4,5],dtype=object)) #it is possible"
   ]
  },
  {
   "cell_type": "code",
   "execution_count": 15,
   "metadata": {},
   "outputs": [
    {
     "name": "stdout",
     "output_type": "stream",
     "text": [
      "Linspace \n",
      " [ 5.   7.5 10.  12.5 15. ]\n"
     ]
    }
   ],
   "source": [
    "print('Linspace \\n',np.linspace(5,15,5)) #5 equally spaced numbers ranging from 5 to 15"
   ]
  },
  {
   "cell_type": "code",
   "execution_count": 23,
   "metadata": {},
   "outputs": [
    {
     "name": "stdout",
     "output_type": "stream",
     "text": [
      "Range \n",
      " [  1   2   3   4   5   6   7   8   9  10  11  12  13  14  15  16  17  18\n",
      "  19  20  21  22  23  24  25  26  27  28  29  30  31  32  33  34  35  36\n",
      "  37  38  39  40  41  42  43  44  45  46  47  48  49  50  51  52  53  54\n",
      "  55  56  57  58  59  60  61  62  63  64  65  66  67  68  69  70  71  72\n",
      "  73  74  75  76  77  78  79  80  81  82  83  84  85  86  87  88  89  90\n",
      "  91  92  93  94  95  96  97  98  99 100]\n"
     ]
    }
   ],
   "source": [
    "# ranging from 1 to 100\n",
    "a= np.arange(1,101)\n",
    "print('Range \\n',a) \n"
   ]
  },
  {
   "cell_type": "code",
   "execution_count": 24,
   "metadata": {},
   "outputs": [
    {
     "ename": "ValueError",
     "evalue": "cannot reshape array of size 100 into shape (100,15)",
     "output_type": "error",
     "traceback": [
      "\u001b[1;31m---------------------------------------------------------------------------\u001b[0m",
      "\u001b[1;31mValueError\u001b[0m                                Traceback (most recent call last)",
      "\u001b[1;32mc:\\Users\\Amina Bibi\\Documents\\notebooks\\ML-lab\\lab-10.ipynb Cell 8\u001b[0m in \u001b[0;36m<cell line: 2>\u001b[1;34m()\u001b[0m\n\u001b[0;32m      <a href='vscode-notebook-cell:/c%3A/Users/Amina%20Bibi/Documents/notebooks/ML-lab/lab-10.ipynb#X10sZmlsZQ%3D%3D?line=0'>1</a>\u001b[0m \u001b[39m# Reshape the above array into (100,15)\u001b[39;00m\n\u001b[1;32m----> <a href='vscode-notebook-cell:/c%3A/Users/Amina%20Bibi/Documents/notebooks/ML-lab/lab-10.ipynb#X10sZmlsZQ%3D%3D?line=1'>2</a>\u001b[0m a \u001b[39m=\u001b[39m a\u001b[39m.\u001b[39;49mreshape(\u001b[39m100\u001b[39;49m,\u001b[39m15\u001b[39;49m)\n\u001b[0;32m      <a href='vscode-notebook-cell:/c%3A/Users/Amina%20Bibi/Documents/notebooks/ML-lab/lab-10.ipynb#X10sZmlsZQ%3D%3D?line=2'>3</a>\u001b[0m \u001b[39mprint\u001b[39m(\u001b[39m'\u001b[39m\u001b[39mReshape \u001b[39m\u001b[39m\\n\u001b[39;00m\u001b[39m'\u001b[39m,a)\n",
      "\u001b[1;31mValueError\u001b[0m: cannot reshape array of size 100 into shape (100,15)"
     ]
    }
   ],
   "source": [
    "# Reshape the above array into (100,15)\n",
    "a = a.reshape(100,15)\n",
    "print('Reshape \\n',a) #not possible because 100*15 = 1500 and 1 to 100 has only 99 elements"
   ]
  },
  {
   "cell_type": "code",
   "execution_count": 25,
   "metadata": {},
   "outputs": [
    {
     "ename": "ValueError",
     "evalue": "cannot reshape array of size 100 into shape (100,10)",
     "output_type": "error",
     "traceback": [
      "\u001b[1;31m---------------------------------------------------------------------------\u001b[0m",
      "\u001b[1;31mValueError\u001b[0m                                Traceback (most recent call last)",
      "\u001b[1;32mc:\\Users\\Amina Bibi\\Documents\\notebooks\\ML-lab\\lab-10.ipynb Cell 9\u001b[0m in \u001b[0;36m<cell line: 2>\u001b[1;34m()\u001b[0m\n\u001b[0;32m      <a href='vscode-notebook-cell:/c%3A/Users/Amina%20Bibi/Documents/notebooks/ML-lab/lab-10.ipynb#X11sZmlsZQ%3D%3D?line=0'>1</a>\u001b[0m \u001b[39m# Reshape the array into (100,10)\u001b[39;00m\n\u001b[1;32m----> <a href='vscode-notebook-cell:/c%3A/Users/Amina%20Bibi/Documents/notebooks/ML-lab/lab-10.ipynb#X11sZmlsZQ%3D%3D?line=1'>2</a>\u001b[0m a \u001b[39m=\u001b[39m a\u001b[39m.\u001b[39;49mreshape(\u001b[39m100\u001b[39;49m,\u001b[39m10\u001b[39;49m) \u001b[39m#not possible because 100*10 = 1000 and 1 to 100 has only 99 elements\u001b[39;00m\n\u001b[0;32m      <a href='vscode-notebook-cell:/c%3A/Users/Amina%20Bibi/Documents/notebooks/ML-lab/lab-10.ipynb#X11sZmlsZQ%3D%3D?line=2'>3</a>\u001b[0m a\n",
      "\u001b[1;31mValueError\u001b[0m: cannot reshape array of size 100 into shape (100,10)"
     ]
    }
   ],
   "source": [
    "# Reshape the array into (100,10)\n",
    "a = a.reshape(100,10) #not possible because 100*10 = 1000 and 1 to 100 has only 99 elements\n",
    "a"
   ]
  },
  {
   "cell_type": "code",
   "execution_count": 28,
   "metadata": {},
   "outputs": [
    {
     "name": "stdout",
     "output_type": "stream",
     "text": [
      "Reshaped\n",
      " [[  1   2   3   4   5   6   7   8   9  10]\n",
      " [ 11  12  13  14  15  16  17  18  19  20]\n",
      " [ 21  22  23  24  25  26  27  28  29  30]\n",
      " [ 31  32  33  34  35  36  37  38  39  40]\n",
      " [ 41  42  43  44  45  46  47  48  49  50]\n",
      " [ 51  52  53  54  55  56  57  58  59  60]\n",
      " [ 61  62  63  64  65  66  67  68  69  70]\n",
      " [ 71  72  73  74  75  76  77  78  79  80]\n",
      " [ 81  82  83  84  85  86  87  88  89  90]\n",
      " [ 91  92  93  94  95  96  97  98  99 100]]\n",
      "Flatten \n",
      " [  1   2   3   4   5   6   7   8   9  10  11  12  13  14  15  16  17  18\n",
      "  19  20  21  22  23  24  25  26  27  28  29  30  31  32  33  34  35  36\n",
      "  37  38  39  40  41  42  43  44  45  46  47  48  49  50  51  52  53  54\n",
      "  55  56  57  58  59  60  61  62  63  64  65  66  67  68  69  70  71  72\n",
      "  73  74  75  76  77  78  79  80  81  82  83  84  85  86  87  88  89  90\n",
      "  91  92  93  94  95  96  97  98  99 100]\n",
      "Ravel \n",
      " [  1   2   3   4   5   6   7   8   9  10  11  12  13  14  15  16  17  18\n",
      "  19  20  21  22  23  24  25  26  27  28  29  30  31  32  33  34  35  36\n",
      "  37  38  39  40  41  42  43  44  45  46  47  48  49  50  51  52  53  54\n",
      "  55  56  57  58  59  60  61  62  63  64  65  66  67  68  69  70  71  72\n",
      "  73  74  75  76  77  78  79  80  81  82  83  84  85  86  87  88  89  90\n",
      "  91  92  93  94  95  96  97  98  99 100]\n"
     ]
    }
   ],
   "source": [
    "# possible reshape\n",
    "a = a.reshape(10,10)\n",
    "print('Reshaped\\n',a)\n",
    "# flatten\n",
    "print('Flatten \\n',a.flatten())\n",
    "# ravel\n",
    "print('Ravel \\n',a.ravel())\n",
    "# Ravel is faster than flatten() as it does not occupy any memory. Flatten() is comparatively slower than ravel() as it occupies memory\n"
   ]
  },
  {
   "cell_type": "code",
   "execution_count": 34,
   "metadata": {},
   "outputs": [
    {
     "name": "stdout",
     "output_type": "stream",
     "text": [
      "Sum along 0 axis \n",
      " [12 15 18]\n",
      "Sum along 1 axis \n",
      " [ 6 15 24]\n"
     ]
    }
   ],
   "source": [
    "# Take an array [[1 2 3] [4 5 6] [ 7 8 9]]. Sum it along 0 and 1 axis\n",
    "a = np.array([[1,2,3],[4,5,6],[7,8,9]])\n",
    "print('Sum along 0 axis \\n',a.sum(axis=0))\n",
    "print('Sum along 1 axis \\n',a.sum(axis=1))"
   ]
  },
  {
   "cell_type": "code",
   "execution_count": 32,
   "metadata": {},
   "outputs": [
    {
     "name": "stdout",
     "output_type": "stream",
     "text": [
      "Number of bytes used by array \n",
      " 36\n"
     ]
    }
   ],
   "source": [
    "# number of bytes used by array\n",
    "print('Number of bytes used by array \\n',a.nbytes)"
   ]
  },
  {
   "cell_type": "code",
   "execution_count": 35,
   "metadata": {},
   "outputs": [
    {
     "name": "stdout",
     "output_type": "stream",
     "text": [
      "Maximum value in array \n",
      " 9\n",
      "Minimum value in array \n",
      " 1\n"
     ]
    }
   ],
   "source": [
    "#maximum and minimum values in a 1D array.\n",
    "a = np.array([1,2,3,4,5,6,7,8,9])\n",
    "print('Maximum value in array \\n',a.max())\n",
    "print('Minimum value in array \\n',a.min())"
   ]
  },
  {
   "cell_type": "code",
   "execution_count": 43,
   "metadata": {},
   "outputs": [
    {
     "name": "stdout",
     "output_type": "stream",
     "text": [
      "Maximum value in array \n",
      " 9\n",
      "Minimum value in array \n",
      " 0\n"
     ]
    }
   ],
   "source": [
    "# maximum and minimum values in 2D array\n",
    "a = np.arange(10).reshape(2,5)\n",
    "print('Maximum value in array \\n',a.max())\n",
    "print('Minimum value in array \\n',a.min())\n"
   ]
  },
  {
   "cell_type": "code",
   "execution_count": 45,
   "metadata": {},
   "outputs": [
    {
     "data": {
      "text/plain": [
       "array([[0, 1, 2, 3, 4],\n",
       "       [5, 6, 7, 8, 9]])"
      ]
     },
     "execution_count": 45,
     "metadata": {},
     "output_type": "execute_result"
    }
   ],
   "source": [
    "# sort \n",
    "np.sort(a)\n"
   ]
  },
  {
   "cell_type": "code",
   "execution_count": 51,
   "metadata": {},
   "outputs": [
    {
     "name": "stdout",
     "output_type": "stream",
     "text": [
      "Dot product \n",
      " [[14 16]\n",
      " [43 50]]\n",
      "Mul \n",
      " [[ 0 12]\n",
      " [21 32]]\n"
     ]
    }
   ],
   "source": [
    "# Is * and mul the same as dot product for numpy arrays and matrices?\n",
    "a = np.array([[0,2],[3,4]])\n",
    "b = np.array([[5,6],[7,8]])\n",
    "print('Dot product \\n',np.dot(a,b))\n",
    "print('Mul \\n',np.multiply(a,b))\n",
    "# difference between dot and mul is that dot is matrix multiplication and mul is element wise multiplication"
   ]
  },
  {
   "cell_type": "code",
   "execution_count": 52,
   "metadata": {},
   "outputs": [
    {
     "name": "stdout",
     "output_type": "stream",
     "text": [
      "Square root \n",
      " [[0.         1.41421356]\n",
      " [1.73205081 2.        ]]\n",
      "Norm \n",
      " 5.385164807134504\n"
     ]
    }
   ],
   "source": [
    "# square root and norm of an array\n",
    "print('Square root \\n',np.sqrt(a))\n",
    "print('Norm \\n',np.linalg.norm(a)) "
   ]
  },
  {
   "cell_type": "code",
   "execution_count": 53,
   "metadata": {},
   "outputs": [
    {
     "name": "stdout",
     "output_type": "stream",
     "text": [
      "Standard deviation \n",
      " 1.479019945774904\n",
      "Non zero values \n",
      " 3\n",
      "Zero values \n",
      " 1\n",
      "Mean \n",
      " 2.25\n"
     ]
    }
   ],
   "source": [
    "# std, non-zero, zero values and mean of an array\n",
    "print('Standard deviation \\n',np.std(a))\n",
    "print('Non zero values \\n',np.count_nonzero(a))\n",
    "print('Zero values \\n',np.count_nonzero(a==0))\n",
    "print('Mean \\n',np.mean(a))"
   ]
  },
  {
   "cell_type": "code",
   "execution_count": 56,
   "metadata": {},
   "outputs": [
    {
     "name": "stdout",
     "output_type": "stream",
     "text": [
      "Radians \n",
      " [0.         0.52359878 0.78539816 1.04719755 1.57079633]\n",
      "Degrees \n",
      " [ 0. 30. 45. 60. 90.]\n"
     ]
    }
   ],
   "source": [
    "# Convert some angles to radians \n",
    "a = np.array([0,30,45,60,90])\n",
    "print('Radians \\n',np.radians(a))\n",
    "print('Angles \\n',np.degrees(np.radians(a)))\n",
    "\n"
   ]
  },
  {
   "cell_type": "code",
   "execution_count": 57,
   "metadata": {},
   "outputs": [
    {
     "data": {
      "text/plain": [
       "array([ 0, 30, 45, 60, 90])"
      ]
     },
     "execution_count": 57,
     "metadata": {},
     "output_type": "execute_result"
    }
   ],
   "source": [
    "# Save and load some of your arrays\n",
    "np.save('a',a)\n",
    "np.load('a.npy')\n"
   ]
  },
  {
   "cell_type": "code",
   "execution_count": null,
   "metadata": {},
   "outputs": [],
   "source": []
  }
 ],
 "metadata": {
  "kernelspec": {
   "display_name": "Python 3.9.7 64-bit",
   "language": "python",
   "name": "python3"
  },
  "language_info": {
   "codemirror_mode": {
    "name": "ipython",
    "version": 3
   },
   "file_extension": ".py",
   "mimetype": "text/x-python",
   "name": "python",
   "nbconvert_exporter": "python",
   "pygments_lexer": "ipython3",
   "version": "3.9.7"
  },
  "orig_nbformat": 4,
  "vscode": {
   "interpreter": {
    "hash": "8c9fa92529ad414ba9dbda2696904a55380000c7dfb4ca576d2a8e3a5c010cbb"
   }
  }
 },
 "nbformat": 4,
 "nbformat_minor": 2
}
