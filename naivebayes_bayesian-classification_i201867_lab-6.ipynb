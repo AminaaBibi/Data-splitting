{
 "cells": [
  {
   "cell_type": "code",
   "execution_count": 1,
   "metadata": {},
   "outputs": [],
   "source": [
    "import pandas as pd"
   ]
  },
  {
   "cell_type": "markdown",
   "metadata": {},
   "source": [
    "Task 1\n",
    "Use naïve bayes classifer on the Tennis play dataset, your code should ask the user to input\n",
    "some features and return the class of the input"
   ]
  },
  {
   "cell_type": "code",
   "execution_count": 2,
   "metadata": {},
   "outputs": [
    {
     "data": {
      "text/html": [
       "<div>\n",
       "<style scoped>\n",
       "    .dataframe tbody tr th:only-of-type {\n",
       "        vertical-align: middle;\n",
       "    }\n",
       "\n",
       "    .dataframe tbody tr th {\n",
       "        vertical-align: top;\n",
       "    }\n",
       "\n",
       "    .dataframe thead th {\n",
       "        text-align: right;\n",
       "    }\n",
       "</style>\n",
       "<table border=\"1\" class=\"dataframe\">\n",
       "  <thead>\n",
       "    <tr style=\"text-align: right;\">\n",
       "      <th></th>\n",
       "      <th>day</th>\n",
       "      <th>outlook</th>\n",
       "      <th>temp</th>\n",
       "      <th>humidity</th>\n",
       "      <th>wind</th>\n",
       "      <th>play</th>\n",
       "    </tr>\n",
       "  </thead>\n",
       "  <tbody>\n",
       "    <tr>\n",
       "      <th>0</th>\n",
       "      <td>D1</td>\n",
       "      <td>Sunny</td>\n",
       "      <td>Hot</td>\n",
       "      <td>High</td>\n",
       "      <td>Weak</td>\n",
       "      <td>No</td>\n",
       "    </tr>\n",
       "    <tr>\n",
       "      <th>1</th>\n",
       "      <td>D2</td>\n",
       "      <td>Sunny</td>\n",
       "      <td>Hot</td>\n",
       "      <td>High</td>\n",
       "      <td>Strong</td>\n",
       "      <td>No</td>\n",
       "    </tr>\n",
       "    <tr>\n",
       "      <th>2</th>\n",
       "      <td>D3</td>\n",
       "      <td>Overcast</td>\n",
       "      <td>Hot</td>\n",
       "      <td>High</td>\n",
       "      <td>Weak</td>\n",
       "      <td>Yes</td>\n",
       "    </tr>\n",
       "    <tr>\n",
       "      <th>3</th>\n",
       "      <td>D4</td>\n",
       "      <td>Rain</td>\n",
       "      <td>Mild</td>\n",
       "      <td>High</td>\n",
       "      <td>Weak</td>\n",
       "      <td>Yes</td>\n",
       "    </tr>\n",
       "    <tr>\n",
       "      <th>4</th>\n",
       "      <td>D5</td>\n",
       "      <td>Rain</td>\n",
       "      <td>Cool</td>\n",
       "      <td>Normal</td>\n",
       "      <td>Weak</td>\n",
       "      <td>Yes</td>\n",
       "    </tr>\n",
       "    <tr>\n",
       "      <th>5</th>\n",
       "      <td>D6</td>\n",
       "      <td>Rain</td>\n",
       "      <td>Cool</td>\n",
       "      <td>Normal</td>\n",
       "      <td>Strong</td>\n",
       "      <td>No</td>\n",
       "    </tr>\n",
       "    <tr>\n",
       "      <th>6</th>\n",
       "      <td>D7</td>\n",
       "      <td>Overcast</td>\n",
       "      <td>Cool</td>\n",
       "      <td>Normal</td>\n",
       "      <td>Strong</td>\n",
       "      <td>Yes</td>\n",
       "    </tr>\n",
       "    <tr>\n",
       "      <th>7</th>\n",
       "      <td>D8</td>\n",
       "      <td>Sunny</td>\n",
       "      <td>Mild</td>\n",
       "      <td>High</td>\n",
       "      <td>Weak</td>\n",
       "      <td>No</td>\n",
       "    </tr>\n",
       "    <tr>\n",
       "      <th>8</th>\n",
       "      <td>D9</td>\n",
       "      <td>Sunny</td>\n",
       "      <td>Cool</td>\n",
       "      <td>Normal</td>\n",
       "      <td>Weak</td>\n",
       "      <td>Yes</td>\n",
       "    </tr>\n",
       "    <tr>\n",
       "      <th>9</th>\n",
       "      <td>D10</td>\n",
       "      <td>Rain</td>\n",
       "      <td>Mild</td>\n",
       "      <td>Normal</td>\n",
       "      <td>Weak</td>\n",
       "      <td>Yes</td>\n",
       "    </tr>\n",
       "    <tr>\n",
       "      <th>10</th>\n",
       "      <td>D11</td>\n",
       "      <td>Sunny</td>\n",
       "      <td>Mild</td>\n",
       "      <td>Normal</td>\n",
       "      <td>Strong</td>\n",
       "      <td>Yes</td>\n",
       "    </tr>\n",
       "    <tr>\n",
       "      <th>11</th>\n",
       "      <td>D12</td>\n",
       "      <td>Overcast</td>\n",
       "      <td>Mild</td>\n",
       "      <td>High</td>\n",
       "      <td>Strong</td>\n",
       "      <td>Yes</td>\n",
       "    </tr>\n",
       "    <tr>\n",
       "      <th>12</th>\n",
       "      <td>D13</td>\n",
       "      <td>Overcast</td>\n",
       "      <td>Hot</td>\n",
       "      <td>Normal</td>\n",
       "      <td>Weak</td>\n",
       "      <td>Yes</td>\n",
       "    </tr>\n",
       "    <tr>\n",
       "      <th>13</th>\n",
       "      <td>D14</td>\n",
       "      <td>Rain</td>\n",
       "      <td>Mild</td>\n",
       "      <td>High</td>\n",
       "      <td>Strong</td>\n",
       "      <td>No</td>\n",
       "    </tr>\n",
       "  </tbody>\n",
       "</table>\n",
       "</div>"
      ],
      "text/plain": [
       "    day   outlook  temp humidity    wind play\n",
       "0    D1     Sunny   Hot     High    Weak   No\n",
       "1    D2     Sunny   Hot     High  Strong   No\n",
       "2    D3  Overcast   Hot     High    Weak  Yes\n",
       "3    D4      Rain  Mild     High    Weak  Yes\n",
       "4    D5      Rain  Cool   Normal    Weak  Yes\n",
       "5    D6      Rain  Cool   Normal  Strong   No\n",
       "6    D7  Overcast  Cool   Normal  Strong  Yes\n",
       "7    D8     Sunny  Mild     High    Weak   No\n",
       "8    D9     Sunny  Cool   Normal    Weak  Yes\n",
       "9   D10      Rain  Mild   Normal    Weak  Yes\n",
       "10  D11     Sunny  Mild   Normal  Strong  Yes\n",
       "11  D12  Overcast  Mild     High  Strong  Yes\n",
       "12  D13  Overcast   Hot   Normal    Weak  Yes\n",
       "13  D14      Rain  Mild     High  Strong   No"
      ]
     },
     "execution_count": 2,
     "metadata": {},
     "output_type": "execute_result"
    }
   ],
   "source": [
    "df = pd.read_csv('play_tennis.csv')\n",
    "df"
   ]
  },
  {
   "cell_type": "code",
   "execution_count": 3,
   "metadata": {},
   "outputs": [
    {
     "name": "stdout",
     "output_type": "stream",
     "text": [
      "yes:  0.6428571428571429\n",
      "no:  0.35714285714285715\n"
     ]
    }
   ],
   "source": [
    "# find the prob of yes and no\n",
    "yes = df[df['play'] == 'Yes']\n",
    "no = df[df['play'] == 'No']\n",
    "print('yes: ', len(yes)/len(df))\n",
    "print('no: ', len(no)/len(df))\n"
   ]
  },
  {
   "cell_type": "code",
   "execution_count": 4,
   "metadata": {},
   "outputs": [
    {
     "name": "stdout",
     "output_type": "stream",
     "text": [
      "No\n"
     ]
    }
   ],
   "source": [
    "def get_class(outlook, temp, humidity, wind):\n",
    "    outlook = df[df['outlook'] == outlook]\n",
    "    outlook_yes = outlook[outlook['play'] == 'Yes']\n",
    "    outlook_no = outlook[outlook['play'] == 'No']\n",
    "    outlook_yes = len(outlook_yes)/len(yes)\n",
    "    outlook_no = len(outlook_no)/len(no)\n",
    "    temp_yes = df[df['temp'] == temp]\n",
    "    temp_yes = temp_yes[temp_yes['play'] == 'Yes']\n",
    "    temp_yes = len(temp_yes)/len(yes)\n",
    "    temp_no = df[df['temp'] == temp]\n",
    "    temp_no = temp_no[temp_no['play'] == 'No']\n",
    "    temp_no = len(temp_no)/len(no)\n",
    "    humidity_yes = df[df['humidity'] == humidity]\n",
    "    humidity_yes = humidity_yes[humidity_yes['play'] == 'Yes']\n",
    "    humidity_yes = len(humidity_yes)/len(yes)\n",
    "    humidity_no = df[df['humidity'] == humidity]\n",
    "    humidity_no = humidity_no[humidity_no['play'] == 'No']\n",
    "    humidity_no = len(humidity_no)/len(no)\n",
    "    wind_yes = df[df['wind'] == wind]\n",
    "    wind_yes = wind_yes[wind_yes['play'] == 'Yes']\n",
    "    wind_yes = len(wind_yes)/len(yes)\n",
    "    wind_no = df[df['wind'] == wind]\n",
    "    wind_no = wind_no[wind_no['play'] == 'No']\n",
    "    wind_no = len(wind_no)/len(no)\n",
    "    yes_prob = outlook_yes * temp_yes * humidity_yes * wind_yes * len(yes) \n",
    "    no_prob = outlook_no * temp_no * humidity_no * wind_no * len(no)\n",
    "    if yes_prob > no_prob:\n",
    "        return 'Yes'\n",
    "    else:\n",
    "        return 'No'\n",
    "\n",
    "outlook = input('outlook: ')\n",
    "temp = input('temp: ')\n",
    "humidity = input('humidity: ')\n",
    "wind = input('wind: ')\n",
    "print(get_class(outlook, temp, humidity, wind)) #Sunny\tHot\tHigh\tWeak"
   ]
  },
  {
   "cell_type": "code",
   "execution_count": null,
   "metadata": {},
   "outputs": [],
   "source": []
  },
  {
   "cell_type": "markdown",
   "metadata": {},
   "source": [
    "Task 2\n",
    "Use bayesian classification to detect the class of a test sentence. Once use naïve bayes to\n",
    "classify the test sentence and then remove the naïve assumption and classify the sentence."
   ]
  },
  {
   "cell_type": "code",
   "execution_count": 1,
   "metadata": {},
   "outputs": [
    {
     "name": "stdout",
     "output_type": "stream",
     "text": [
      "i love mangoes mangoes are a lot tastier than other fruits i like mangoes because they are good apples are good too but i prefer mangoes people say mango is the king of fruit so that is why mangoes are good mangoes are good because they are juicy\n"
     ]
    }
   ],
   "source": [
    "positive = \"I love mangoes Mangoes are a lot tastier than other fruits I like mangoes because they are good Apples are good too but I prefer mangoes People say mango is the king of fruit so that is why mangoes are good Mangoes are good because they are juicy\"\n",
    "negative = \"Eating too many mangoes can have a negative impact on your health Mangoes are good but not too good I like apples more than mangoes I dont like mangoes because they are expensive Mangoes are not good I don’t like mangoes\"\n",
    "\n",
    "positive = positive.lower()\n",
    "negative = negative.lower()\n",
    "print(positive)"
   ]
  },
  {
   "cell_type": "code",
   "execution_count": 2,
   "metadata": {},
   "outputs": [],
   "source": []
  },
  {
   "cell_type": "code",
   "execution_count": 24,
   "metadata": {},
   "outputs": [
    {
     "name": "stdout",
     "output_type": "stream",
     "text": [
      "2.39859618160811e-06\n",
      "9.77230528681716e-07\n"
     ]
    },
    {
     "data": {
      "text/plain": [
       "'Positive'"
      ]
     },
     "execution_count": 24,
     "metadata": {},
     "output_type": "execute_result"
    }
   ],
   "source": [
    "c1 = 0\n",
    "c2 = 0\n",
    "for i in positive:\n",
    "    c1 += len(i.split())\n",
    "for i in negative:\n",
    "    c2 += len(i.split())\n",
    "\n",
    "prior_positive = c1/(c1+c2)\n",
    "prior_negative = c2/(c1+c2)\n",
    "\n",
    "\n",
    "\n",
    "\n",
    "\n",
    "def get_class(sentence):\n",
    "    sentence = sentence.split()\n",
    "    p_prob= 1\n",
    "    n_prob = 1\n",
    "    posi_temp=0\n",
    "    negi_temp=0\n",
    "    for i in range(len(sentence)):\n",
    "        word = ' '.join(sentence[:i+1]) \n",
    "        # print(word)\n",
    "        if word in positive: \n",
    "            # print(word)\n",
    "            count = positive.count(word) # count of word in positive\n",
    "            # print(count)\n",
    "            p_prob *= count/c1\n",
    "            posi_temp += 1 #if there is no change in prob then it will be zero.......keeping track of the prob\n",
    "        # print(negative)\n",
    "        if word in negative:\n",
    "            # print(word)\n",
    "            count = negative.count(word)\n",
    "            n_prob *= count/c2\n",
    "            negi_temp += 1\n",
    "    p_prob *= prior_positive\n",
    "    n_prob *= prior_negative\n",
    "    print(p_prob)\n",
    "    print(n_prob)\n",
    "    if posi_temp == 0:\n",
    "        p_prob = 0\n",
    "    if negi_temp == 0:\n",
    "        n_prob = 0\n",
    "    if p_prob > n_prob:\n",
    "        return 'Positive'\n",
    "    else:\n",
    "        return 'Negative'\n",
    "        \n",
    "\n",
    "   \n",
    "# print(c1+c2)\n",
    "# print(c1)\n",
    "# print(c2)\n",
    "get_class('mangoes are good')\n",
    "\n",
    "\n"
   ]
  },
  {
   "cell_type": "code",
   "execution_count": null,
   "metadata": {},
   "outputs": [],
   "source": []
  }
 ],
 "metadata": {
  "kernelspec": {
   "display_name": "Python 3.9.7 64-bit",
   "language": "python",
   "name": "python3"
  },
  "language_info": {
   "codemirror_mode": {
    "name": "ipython",
    "version": 3
   },
   "file_extension": ".py",
   "mimetype": "text/x-python",
   "name": "python",
   "nbconvert_exporter": "python",
   "pygments_lexer": "ipython3",
   "version": "3.9.7"
  },
  "orig_nbformat": 4,
  "vscode": {
   "interpreter": {
    "hash": "8c9fa92529ad414ba9dbda2696904a55380000c7dfb4ca576d2a8e3a5c010cbb"
   }
  }
 },
 "nbformat": 4,
 "nbformat_minor": 2
}
